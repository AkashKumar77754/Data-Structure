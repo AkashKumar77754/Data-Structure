{
  "nbformat": 4,
  "nbformat_minor": 0,
  "metadata": {
    "colab": {
      "provenance": []
    },
    "kernelspec": {
      "name": "python3",
      "display_name": "Python 3"
    },
    "language_info": {
      "name": "python"
    }
  },
  "cells": [
    {
      "cell_type": "markdown",
      "source": [
        "1. What are data structures, and why are they important?\n",
        "  - Data Structures are the way of organising and storing data in a proper manner so that it can be easily accessible. These are like container that stores data in a specific format. They are important beacause they provide efficient management of data and optimize the performance.\n",
        "\n",
        "2. Explain the difference between mutable and immutable data types with examples.\n",
        "  - Mutable data types can be change after the execution of the code, ex- we can change the values in the list even after the list is executed, while in immutable data types we cannot change the value we have to create a new object with updated value.\n",
        "\n",
        "3. What are the main differences between lists and tuples in Python?\n",
        "  - The main difference is that lists are mutable i.e. the values written inside a list can be change and tuples are immutable i.e. the values inside tuples cannot be change.\n",
        "\n",
        "4. Describe how dictionaries store data.\n",
        "  - Dictionaries consist of a key and its value, every value inside the dictionary has its own unique key assigned which stores the data, these key also act as an index for that value.       \n",
        "\n",
        "5. Why might you use a set instead of a list in Python?\n",
        "  - We can use sets if we have to store a collection of unique data, as sets don't stores duplicate data, while a list stores a every data which is written inside it.   \n",
        "\n",
        "6. What is a string in Python, and how is it different from a list?\n",
        "  - String in python are sequence of character which represent textual data. It is an immutable data type means it cannot be changed. The main difference between string and list is that list are mutable and contains variety of data type.\n",
        "\n",
        "7. How do tuples ensure data integrity in Python?\n",
        "  - Tuples in python are immutable which ensures the integrity of the data. Once a tuple is created the elements inside it cannot be changed, add or remove. This immutability guarantee that the element of the tuple stays constant.\n",
        "\n",
        "8. What is a hash table, and how does it relate to dictionaries in Python?\n",
        "  - A hash table is a data structure that implements an associative array, allowing efficient storage and retrival of key-value pair. When we uses a dictionary, python hashes the key to determine where to store and look up the corresponding value.\n",
        "\n",
        "9. Can lists contain different data types in Python?\n",
        "  - Yes, lists can contain diffetent data types like strings, integers, floats, boolean, etc.\n",
        "\n",
        "10. Explain why strings are immutable in Python?\n",
        "  - Strings in python are immutable to enhance the efficiceny by allowing multiple refrences to the same string. It also simplifies programming by ensuring that the string's value remains constant once created.\n",
        "\n",
        "11. What advantages do dictionaries offer over lists for certain tasks?\n",
        "  - Dictionary uses key and value to store the data, each value is assigned a unique key and these key are also used as an index for the value. So in case if we have to search the information we can simply write the identifier instead the position in order to get the info.\n",
        "\n",
        "12. Describe a scenario where using a tuple would be preferable over a list?\n",
        "  - Tuples would be more prefreable in a situation where we have to represent a fixed collection of data which are not going to be changed. Beacause tuples are immutable.\n",
        "\n",
        "13. How do sets handle duplicate values in Python?\n",
        "  - Sets handle duplicate values by automatically discarding the element which is already present. If we add an exact same element which is already present in the set it will not affect the set and it'll remains the same and the duplicate value will not be executed.\n",
        "\n",
        "14. How does the “in” keyword work differently for lists and dictionaries?\n",
        "  - \"in\" keyword in list checks if the specific value is present in the list, python iterates through list comparing each element to the value. While the \"in\" keyword in dictionary checks if the value exist as an key in the dictionary.\n",
        "\n",
        "15. Can you modify the elements of a tuple? Explain why or why not?\n",
        "  - No, we cannot modify the elements of a tuple because tuples are immutable means the elements inside it canoot be changed. This immutability ensures the integrity and efficiency of the data.\n",
        "\n",
        "16. What is a nested dictionary, and give an example of its use case?\n",
        "  - A dictionary inside a dictionar is known as nested dictionary.\n",
        "  Ex- student_dict = {'S1':{'Name':'Akash' 'Marks': 200}, 'S2':{'Name':'Aman' 'Marks': 200} }\n",
        "\n",
        "17. Describe the time complexity of accessing elements in a dictionary?\n",
        "  - The time complexity of accessing element in a dictionary is on average, O(1)\n",
        "  which is constant. Python dictionaries are implement using hash table. When you want to access a value using its key, python calculates the hash of the key and directly jumps to the memory location where the key-value pair is stored.\n",
        "\n",
        "18. In what situations are lists preferred over dictionaries?\n",
        "  - List is preferred over a dictionary when the order od elements is importent and you need to access the element by their index number.\n",
        "\n",
        "19. Why are dictionaries considered unordered, and how does that affect data retrieval?\n",
        "  - Dictionaries are considered unordered because they do not maintain the order in which they are inserted when we access the items the order of dictionaries may vary. If we need to retrive the data we can't rely on the order they have inserted.\n",
        "\n",
        "20. Explain the difference between a list and a dictionary in terms of data retrieval.\n",
        "  - In list we have to use the index number in order to retrive the data, while in dictionaries the data is retrived by using their unique key.    "
      ],
      "metadata": {
        "id": "nyriUDvYAKPw"
      }
    },
    {
      "cell_type": "code",
      "source": [
        "#1.Write a code to create a string with your name and print it.\n",
        "\n",
        "a = \"Akash\"\n",
        "print(a)"
      ],
      "metadata": {
        "colab": {
          "base_uri": "https://localhost:8080/"
        },
        "id": "dzsRyhtTqNFw",
        "outputId": "515e6eb2-fd3d-47f7-e4b7-ec851fecbf0b"
      },
      "execution_count": null,
      "outputs": [
        {
          "output_type": "stream",
          "name": "stdout",
          "text": [
            "Akash\n"
          ]
        }
      ]
    },
    {
      "cell_type": "code",
      "source": [
        "#2.Write a code to find the length of the string \"Hello World\".\n",
        "\n",
        "a = \"Hello World\"\n",
        "len(a)"
      ],
      "metadata": {
        "colab": {
          "base_uri": "https://localhost:8080/"
        },
        "id": "atA0sk1qqcvC",
        "outputId": "634f912a-97a9-4d50-a395-2469f9dc1caa"
      },
      "execution_count": null,
      "outputs": [
        {
          "output_type": "execute_result",
          "data": {
            "text/plain": [
              "11"
            ]
          },
          "metadata": {},
          "execution_count": 3
        }
      ]
    },
    {
      "cell_type": "code",
      "source": [
        "#3.Write a code to slice the first 3 characters from the string \"Python Programming\".\n",
        "\n",
        "a = \"Python Programming\"\n",
        "print(a[3:])"
      ],
      "metadata": {
        "colab": {
          "base_uri": "https://localhost:8080/"
        },
        "id": "Opt4Qvy7qmhs",
        "outputId": "9cc7b66a-2ba0-4498-8682-e9d3d699e6e8"
      },
      "execution_count": null,
      "outputs": [
        {
          "output_type": "stream",
          "name": "stdout",
          "text": [
            "hon Programming\n"
          ]
        }
      ]
    },
    {
      "cell_type": "code",
      "source": [
        "#4.Write a code to convert the string \"hello\" to uppercase.\n",
        "\n",
        "a = \"hello\"\n",
        "print(a.upper())"
      ],
      "metadata": {
        "colab": {
          "base_uri": "https://localhost:8080/"
        },
        "id": "RhGZEe6Mq52m",
        "outputId": "eecb419c-9376-43e0-cafc-ce7b235e305d"
      },
      "execution_count": null,
      "outputs": [
        {
          "output_type": "stream",
          "name": "stdout",
          "text": [
            "HELLO\n"
          ]
        }
      ]
    },
    {
      "cell_type": "code",
      "source": [
        "#5.Write a code to replace the word \"apple\" with \"orange\" in the string \"I like apple\".\n",
        "\n",
        "a = \"I like apple\"\n",
        "print(a.replace(\"apple\", \"orange\"))"
      ],
      "metadata": {
        "colab": {
          "base_uri": "https://localhost:8080/"
        },
        "id": "qlq-FOGwrFGE",
        "outputId": "e4bd649a-2095-4c61-bbd6-d80e359e1255"
      },
      "execution_count": null,
      "outputs": [
        {
          "output_type": "stream",
          "name": "stdout",
          "text": [
            "I like orange\n"
          ]
        }
      ]
    },
    {
      "cell_type": "code",
      "source": [
        "#6.Write a code to create a list with numbers 1 to 5 and print it.\n",
        "\n",
        "list1 = [1,2,3,4,5]\n",
        "print(list1)"
      ],
      "metadata": {
        "colab": {
          "base_uri": "https://localhost:8080/"
        },
        "id": "3JjZjIXLrMyH",
        "outputId": "d12a0d4d-6cbf-41b1-ffa9-077b50f4c72b"
      },
      "execution_count": null,
      "outputs": [
        {
          "output_type": "stream",
          "name": "stdout",
          "text": [
            "[1, 2, 3, 4, 5]\n"
          ]
        }
      ]
    },
    {
      "cell_type": "code",
      "source": [
        "#7.Write a code to append the number 10 to the list [1, 2, 3, 4].\n",
        "\n",
        "list1 = [1,2,3,4]\n",
        "list1.append(10)\n",
        "print(a)"
      ],
      "metadata": {
        "colab": {
          "base_uri": "https://localhost:8080/"
        },
        "id": "RC39whPkraRP",
        "outputId": "19b41bbe-29f0-435f-c28f-4ce9ca659c8e"
      },
      "execution_count": null,
      "outputs": [
        {
          "output_type": "stream",
          "name": "stdout",
          "text": [
            "[10, 20, 30, 40, 50]\n"
          ]
        }
      ]
    },
    {
      "cell_type": "code",
      "source": [
        "#8.Write a code to remove the number 3 from the list [1, 2, 3, 4, 5].\n",
        "\n",
        "list1 = [1,2,3,4,5]\n",
        "list1.remove(3)\n",
        "print(a)"
      ],
      "metadata": {
        "colab": {
          "base_uri": "https://localhost:8080/"
        },
        "id": "SSCDTwJ4rnZG",
        "outputId": "4966ad59-c636-479d-de5b-8eed2b899cd8"
      },
      "execution_count": null,
      "outputs": [
        {
          "output_type": "stream",
          "name": "stdout",
          "text": [
            "[10, 20, 30, 40, 50]\n"
          ]
        }
      ]
    },
    {
      "cell_type": "code",
      "source": [
        "#9.Write a code to access the second element in the list ['a', 'b', 'c', 'd'].\n",
        "\n",
        "list1 = [\"a\",\"b\",\"c\",\"d\"]\n",
        "print(list1[1])"
      ],
      "metadata": {
        "colab": {
          "base_uri": "https://localhost:8080/"
        },
        "id": "vV5uEoxJrvXx",
        "outputId": "78595b72-6ae4-44fe-8d3f-33820e03238d"
      },
      "execution_count": null,
      "outputs": [
        {
          "output_type": "stream",
          "name": "stdout",
          "text": [
            "b\n"
          ]
        }
      ]
    },
    {
      "cell_type": "code",
      "source": [
        "#10.Write a code to reverse the list [10, 20, 30, 40, 50].\n",
        "\n",
        "list1 = [10,20,30,40,50]\n",
        "list1[ : : -1]"
      ],
      "metadata": {
        "colab": {
          "base_uri": "https://localhost:8080/"
        },
        "id": "m4tdORMqr-00",
        "outputId": "e20a2b7d-232b-48df-859a-a0bea78c809a"
      },
      "execution_count": null,
      "outputs": [
        {
          "output_type": "execute_result",
          "data": {
            "text/plain": [
              "[50, 40, 30, 20, 10]"
            ]
          },
          "metadata": {},
          "execution_count": 24
        }
      ]
    },
    {
      "cell_type": "code",
      "source": [
        "#11. Write a code to create a tuple with the elements 100, 200, 300 and print it.\n",
        "\n",
        "tuple1 = (100,200,300)\n",
        "print(tuple1)\n"
      ],
      "metadata": {
        "colab": {
          "base_uri": "https://localhost:8080/"
        },
        "id": "L4XBgP8nshZ7",
        "outputId": "697ab8ca-0e87-444f-e8ad-f3228625674a"
      },
      "execution_count": null,
      "outputs": [
        {
          "output_type": "stream",
          "name": "stdout",
          "text": [
            "(100, 200, 300)\n"
          ]
        }
      ]
    },
    {
      "cell_type": "code",
      "source": [
        "#12. Write a code to access the second-to-last element of the tuple ('red', 'green', 'blue', 'yellow').\n",
        "\n",
        "tuple1 = (\"red\", \"green\", \"blue\", \"yellow\")\n",
        "print(tuple1[-2])"
      ],
      "metadata": {
        "colab": {
          "base_uri": "https://localhost:8080/"
        },
        "id": "VZpsxVUPuCRf",
        "outputId": "4cd31278-715b-4155-b988-8523794e76b1"
      },
      "execution_count": null,
      "outputs": [
        {
          "output_type": "stream",
          "name": "stdout",
          "text": [
            "blue\n"
          ]
        }
      ]
    },
    {
      "cell_type": "code",
      "source": [
        "#13. Write a code to find the minimum number in the tuple (10, 20, 5, 15).\n",
        "\n",
        "tuple1 = (10,20,5,15)\n",
        "min(tuple1)"
      ],
      "metadata": {
        "colab": {
          "base_uri": "https://localhost:8080/"
        },
        "id": "2TDdvzMMuHYc",
        "outputId": "3ba86bb7-b594-416f-b84f-e014fcc6635b"
      },
      "execution_count": null,
      "outputs": [
        {
          "output_type": "execute_result",
          "data": {
            "text/plain": [
              "5"
            ]
          },
          "metadata": {},
          "execution_count": 27
        }
      ]
    },
    {
      "cell_type": "code",
      "source": [
        "#14. Write a code to find the index of the element \"cat\" in the tuple ('dog', 'cat', 'rabbit').\n",
        "\n",
        "tuple1 = (\"dog\", \"cat\", \"rabbit\")\n",
        "tuple1.index(\"cat\")"
      ],
      "metadata": {
        "colab": {
          "base_uri": "https://localhost:8080/"
        },
        "id": "0rKJpzzQuLF_",
        "outputId": "84d15c16-b120-42dd-d940-6a22927a2bfc"
      },
      "execution_count": null,
      "outputs": [
        {
          "output_type": "execute_result",
          "data": {
            "text/plain": [
              "1"
            ]
          },
          "metadata": {},
          "execution_count": 28
        }
      ]
    },
    {
      "cell_type": "code",
      "source": [
        "#15. Write a code to create a tuple containing three different fruits and check if \"kiwi\" is in it.\n",
        "\n",
        "tuple1 = (\"Mango\", \"Apple\", \"Banana\")\n",
        "\"kiwi\" in tuple1"
      ],
      "metadata": {
        "colab": {
          "base_uri": "https://localhost:8080/"
        },
        "id": "mFkJi_rBuRq8",
        "outputId": "688ea527-7512-40e5-f8f0-885884656184"
      },
      "execution_count": null,
      "outputs": [
        {
          "output_type": "execute_result",
          "data": {
            "text/plain": [
              "False"
            ]
          },
          "metadata": {},
          "execution_count": 29
        }
      ]
    },
    {
      "cell_type": "code",
      "source": [
        "#16. Write a code to create a set with the elements 'a', 'b', 'c' and print it.\n",
        "\n",
        "set1 = {\"a\",\"b\",\"c\"}\n",
        "print(set1)"
      ],
      "metadata": {
        "colab": {
          "base_uri": "https://localhost:8080/"
        },
        "id": "0p0bDuoLudIt",
        "outputId": "4563309a-9145-47ee-d8fe-0bd2baf2fc13"
      },
      "execution_count": null,
      "outputs": [
        {
          "output_type": "stream",
          "name": "stdout",
          "text": [
            "{'c', 'a', 'b'}\n"
          ]
        }
      ]
    },
    {
      "cell_type": "code",
      "source": [
        "#17. Write a code to clear all elements from the set {1, 2, 3, 4, 5}.\n",
        "\n",
        "set1 = {1,2,3,4,5}\n",
        "set1.clear()\n",
        "print(set1)"
      ],
      "metadata": {
        "colab": {
          "base_uri": "https://localhost:8080/"
        },
        "id": "zSqlu1yEuuiC",
        "outputId": "a36f1cdd-2fbf-4dd7-ccf2-b8f0e74e1237"
      },
      "execution_count": null,
      "outputs": [
        {
          "output_type": "stream",
          "name": "stdout",
          "text": [
            "set()\n"
          ]
        }
      ]
    },
    {
      "cell_type": "code",
      "source": [
        "#18.  Write a code to remove the element 4 from the set {1, 2, 3, 4}.\n",
        "\n",
        "set1 = {1,2,3,4}\n",
        "set1.remove(4)\n",
        "print(set1)"
      ],
      "metadata": {
        "colab": {
          "base_uri": "https://localhost:8080/"
        },
        "id": "1MvvDANJvK5T",
        "outputId": "bb0475d2-e600-442a-c2c4-feab3e35c627"
      },
      "execution_count": null,
      "outputs": [
        {
          "output_type": "stream",
          "name": "stdout",
          "text": [
            "{1, 2, 3}\n"
          ]
        }
      ]
    },
    {
      "cell_type": "code",
      "source": [
        "#19. Write a code to find the union of two sets {1, 2, 3} and {3, 4, 5}.\n",
        "\n",
        "set1 = {1,2,3}\n",
        "set2 = {3,4,5}\n",
        "set3 = set1.union(set2)\n",
        "print(set3)"
      ],
      "metadata": {
        "colab": {
          "base_uri": "https://localhost:8080/"
        },
        "id": "30wkNwfbvQSX",
        "outputId": "85ec2573-9a6a-471c-ada0-01eafe05da84"
      },
      "execution_count": null,
      "outputs": [
        {
          "output_type": "stream",
          "name": "stdout",
          "text": [
            "{1, 2, 3, 4, 5}\n"
          ]
        }
      ]
    },
    {
      "cell_type": "code",
      "source": [
        "#20. Write a code to find the intersection of two sets {1, 2, 3} and {2, 3, 4}.\n",
        "\n",
        "set1 = {1,2,3}\n",
        "set2 = {2,3,4}\n",
        "set3 = set1.intersection(set2)\n",
        "print(set3)"
      ],
      "metadata": {
        "colab": {
          "base_uri": "https://localhost:8080/"
        },
        "id": "niReOCyFvia1",
        "outputId": "6b7cd86f-4802-4223-c589-18f9880a0cad"
      },
      "execution_count": null,
      "outputs": [
        {
          "output_type": "stream",
          "name": "stdout",
          "text": [
            "{2, 3}\n"
          ]
        }
      ]
    },
    {
      "cell_type": "code",
      "source": [
        "#21. Write a code to create a dictionary with the keys \"name\", \"age\", and \"city\", and print it.\n",
        "\n",
        "dict1 = {\"name\":\"Akash\", \"age\":21, \"city\":\"Delhi\"}\n",
        "print(dict1)"
      ],
      "metadata": {
        "colab": {
          "base_uri": "https://localhost:8080/"
        },
        "id": "RTfcf_1BFGnu",
        "outputId": "e2edcc6e-ba3c-426f-aba3-bbc5b1ffaca0"
      },
      "execution_count": 1,
      "outputs": [
        {
          "output_type": "stream",
          "name": "stdout",
          "text": [
            "{'name': 'Akash', 'age': 21, 'city': 'Delhi'}\n"
          ]
        }
      ]
    },
    {
      "cell_type": "code",
      "source": [
        "#22. Write a code to add a new key-value pair \"country\": \"USA\" to the dictionary {'name': 'John', 'age': 25}.\n",
        "\n",
        "dict1 = {\"name\":\"John\", \"age\":25}\n",
        "dict1[\"country\"] = \"USA\"\n",
        "print(dict1)"
      ],
      "metadata": {
        "colab": {
          "base_uri": "https://localhost:8080/"
        },
        "id": "8CZqnn1jFbXa",
        "outputId": "db762a1b-a64c-4a4d-a006-6bcb32b2cf4a"
      },
      "execution_count": 2,
      "outputs": [
        {
          "output_type": "stream",
          "name": "stdout",
          "text": [
            "{'name': 'John', 'age': 25, 'country': 'USA'}\n"
          ]
        }
      ]
    },
    {
      "cell_type": "code",
      "source": [
        "#23. Write a code to access the value associated with the key \"name\" in the dictionary {'name': 'Alice', 'age': 30}.\n",
        "\n",
        "dict1 = {\"name\":\"Alice\", \"age\":30}\n",
        "print(dict1[\"name\"])"
      ],
      "metadata": {
        "colab": {
          "base_uri": "https://localhost:8080/"
        },
        "id": "npw-Wrs8FgRp",
        "outputId": "d3579639-ceec-4b90-fe09-d135484f90e7"
      },
      "execution_count": 3,
      "outputs": [
        {
          "output_type": "stream",
          "name": "stdout",
          "text": [
            "Alice\n"
          ]
        }
      ]
    },
    {
      "cell_type": "code",
      "source": [
        "#24.  Write a code to remove the key \"age\" from the dictionary {'name': 'Bob', 'age': 22, 'city': 'New York'}.\n",
        "\n",
        "dict1 = {\"name\":\"Bob\", \"age\":22, \"city\":\"New York\"}\n",
        "dict1.pop(\"age\")\n",
        "print(dict1)"
      ],
      "metadata": {
        "colab": {
          "base_uri": "https://localhost:8080/"
        },
        "id": "EZY-fcLPFlsh",
        "outputId": "d40283f1-a074-441e-9205-7cd90973e992"
      },
      "execution_count": 4,
      "outputs": [
        {
          "output_type": "stream",
          "name": "stdout",
          "text": [
            "{'name': 'Bob', 'city': 'New York'}\n"
          ]
        }
      ]
    },
    {
      "cell_type": "code",
      "source": [
        "#25. Write a code to check if the key \"city\" exists in the dictionary {'name': 'Alice', 'city': 'Paris'}.\n",
        "\n",
        "dict1 = {\"name\":\"Alice\", \"city\":\"Paris\"}\n",
        "\"city\" in dict1"
      ],
      "metadata": {
        "colab": {
          "base_uri": "https://localhost:8080/"
        },
        "id": "baTiWDW4FrPL",
        "outputId": "948a6601-6030-4867-de32-ddf4f0764c9b"
      },
      "execution_count": 5,
      "outputs": [
        {
          "output_type": "execute_result",
          "data": {
            "text/plain": [
              "True"
            ]
          },
          "metadata": {},
          "execution_count": 5
        }
      ]
    },
    {
      "cell_type": "code",
      "source": [
        "#26.  Write a code to create a list, a tuple, and a dictionary, and print them all.\n",
        "\n",
        "list1 = [1,2,3,4]\n",
        "tuple1 = (1,2,3,4)\n",
        "dict1 = {\"name\":\"Akash\", \"age\":21, \"city\":\"Delhi\"}\n",
        "print(list1)\n",
        "print(tuple1)\n",
        "print(dict1)"
      ],
      "metadata": {
        "colab": {
          "base_uri": "https://localhost:8080/"
        },
        "id": "gBFc9dU8F0Ay",
        "outputId": "b2cc135e-2db4-4128-a4a2-8c9b617d89da"
      },
      "execution_count": 6,
      "outputs": [
        {
          "output_type": "stream",
          "name": "stdout",
          "text": [
            "[1, 2, 3, 4]\n",
            "(1, 2, 3, 4)\n",
            "{'name': 'Akash', 'age': 21, 'city': 'Delhi'}\n"
          ]
        }
      ]
    },
    {
      "cell_type": "code",
      "source": [
        "#27.  Write a code to create a list of 5 random numbers between 1 and 100, sort it in ascending order, and print the result(replaced).\n",
        "\n",
        "import random\n",
        "list1 = []\n",
        "for i in range(5):\n",
        "    list1.append(random.randint(1, 100))\n",
        "list1.sort()\n",
        "print(list1)"
      ],
      "metadata": {
        "colab": {
          "base_uri": "https://localhost:8080/"
        },
        "id": "bwvuxKcZF7Vq",
        "outputId": "b4ee7513-8353-4f15-bebf-63c37d91c21e"
      },
      "execution_count": 9,
      "outputs": [
        {
          "output_type": "stream",
          "name": "stdout",
          "text": [
            "[18, 29, 65, 73, 80]\n"
          ]
        }
      ]
    },
    {
      "cell_type": "code",
      "source": [
        "#28. Write a code to create a list with strings and print the element at the third index.\n",
        "\n",
        "list1 = [\"Mango\", \"Apple\", \"Banana\"]\n",
        "print(list1[2])"
      ],
      "metadata": {
        "colab": {
          "base_uri": "https://localhost:8080/"
        },
        "id": "d9-b2uBvGehV",
        "outputId": "f0dfb263-2b64-4d76-cd77-a0894158244a"
      },
      "execution_count": 10,
      "outputs": [
        {
          "output_type": "stream",
          "name": "stdout",
          "text": [
            "Banana\n"
          ]
        }
      ]
    },
    {
      "cell_type": "code",
      "source": [
        "#29.  Write a code to combine two dictionaries into one and print the result.\n",
        "\n",
        "dict1 = {\"name\":\"Akash\", \"age\":21}\n",
        "dict2 = {\"city\":\"Delhi\", \"country\":\"India\"}\n",
        "dict3 = dict1.copy()\n",
        "dict3.update(dict2)\n",
        "print(dict3)"
      ],
      "metadata": {
        "colab": {
          "base_uri": "https://localhost:8080/"
        },
        "id": "JHIl6cD8GmK-",
        "outputId": "672124e5-38e0-4ab0-b444-7288d9f61396"
      },
      "execution_count": 11,
      "outputs": [
        {
          "output_type": "stream",
          "name": "stdout",
          "text": [
            "{'name': 'Akash', 'age': 21, 'city': 'Delhi', 'country': 'India'}\n"
          ]
        }
      ]
    },
    {
      "cell_type": "code",
      "source": [
        "#30. Write a code to convert a list of strings into a set.\n",
        "\n",
        "list1 = [\"Mango\", \"Apple\", \"Banana\"]\n",
        "set1 = set(list1)\n",
        "print(set1)"
      ],
      "metadata": {
        "colab": {
          "base_uri": "https://localhost:8080/"
        },
        "id": "8iCmlLswGwON",
        "outputId": "c9fea1de-4cac-4bc3-a878-86f92ad1713c"
      },
      "execution_count": 12,
      "outputs": [
        {
          "output_type": "stream",
          "name": "stdout",
          "text": [
            "{'Mango', 'Banana', 'Apple'}\n"
          ]
        }
      ]
    }
  ]
}